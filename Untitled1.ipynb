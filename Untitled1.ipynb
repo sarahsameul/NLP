{
 "cells": [
  {
   "cell_type": "code",
   "execution_count": 1,
   "id": "771b7fe6-40fb-483d-be33-4ba4437a972f",
   "metadata": {},
   "outputs": [],
   "source": [
    "import numpy as np\n",
    "import matplotlib.pyplot as plt\n",
    "import pandas as pd\n",
    "import csv"
   ]
  },
  {
   "cell_type": "code",
   "execution_count": 11,
   "id": "fdb0dd23-833d-40b1-b93f-fa5e535c397c",
   "metadata": {},
   "outputs": [],
   "source": [
    "df = pd.read_csv(\"C:/Users/sarah/Downloads/Covid-Train (1).csv\")"
   ]
  },
  {
   "cell_type": "code",
   "execution_count": 22,
   "id": "ab75e9c4-de46-4f81-b037-3cd7a523d28f",
   "metadata": {},
   "outputs": [
    {
     "name": "stdout",
     "output_type": "stream",
     "text": [
      "(24, 3)\n",
      "Index(['id', 'tweet', 'label'], dtype='object')\n",
      "   id                                              tweet  label\n",
      "0   1  The CDC currently reports 99031 deaths. In gen...      1\n",
      "1   2  States reported 1121 deaths a small rise from ...      1\n",
      "2   3  Politically Correct Woman (Almost) Uses Pandem...      0\n",
      "3   4  #IndiaFightsCorona: We have 1524 #COVID testin...      1\n",
      "4   5  Populous states can generate large case counts...      1\n",
      "<class 'pandas.core.frame.DataFrame'>\n",
      "RangeIndex: 24 entries, 0 to 23\n",
      "Data columns (total 3 columns):\n",
      " #   Column  Non-Null Count  Dtype \n",
      "---  ------  --------------  ----- \n",
      " 0   id      24 non-null     int64 \n",
      " 1   tweet   24 non-null     object\n",
      " 2   label   24 non-null     int64 \n",
      "dtypes: int64(2), object(1)\n",
      "memory usage: 708.0+ bytes\n",
      "None\n",
      "              id      label\n",
      "count  24.000000  24.000000\n",
      "mean   12.500000   0.625000\n",
      "std     7.071068   0.494535\n",
      "min     1.000000   0.000000\n",
      "25%     6.750000   0.000000\n",
      "50%    12.500000   1.000000\n",
      "75%    18.250000   1.000000\n",
      "max    24.000000   1.000000\n"
     ]
    }
   ],
   "source": [
    "print(df.shape)\n",
    "print(df.columns)\n",
    "print(df.head(5))\n",
    "print(df.info())\n",
    "print(df.describe())"
   ]
  },
  {
   "cell_type": "code",
   "execution_count": 15,
   "id": "23577b07-e261-4704-8752-eb72c6bacc6f",
   "metadata": {},
   "outputs": [
    {
     "name": "stdout",
     "output_type": "stream",
     "text": [
      "              id      label\n",
      "count  24.000000  24.000000\n",
      "mean   12.500000   0.625000\n",
      "std     7.071068   0.494535\n",
      "min     1.000000   0.000000\n",
      "25%     6.750000   0.000000\n",
      "50%    12.500000   1.000000\n",
      "75%    18.250000   1.000000\n",
      "max    24.000000   1.000000\n"
     ]
    }
   ],
   "source": [
    "print(df.describe())"
   ]
  },
  {
   "cell_type": "code",
   "execution_count": 17,
   "id": "c40eea71-f6a7-4c71-ae2a-3fe823107a28",
   "metadata": {},
   "outputs": [
    {
     "name": "stdout",
     "output_type": "stream",
     "text": [
      "<class 'pandas.core.frame.DataFrame'>\n",
      "RangeIndex: 24 entries, 0 to 23\n",
      "Data columns (total 3 columns):\n",
      " #   Column  Non-Null Count  Dtype \n",
      "---  ------  --------------  ----- \n",
      " 0   id      24 non-null     int64 \n",
      " 1   tweet   24 non-null     object\n",
      " 2   label   24 non-null     int64 \n",
      "dtypes: int64(2), object(1)\n",
      "memory usage: 708.0+ bytes\n",
      "None\n"
     ]
    }
   ],
   "source": [
    "print(df.info())\n",
    "\n",
    "\n"
   ]
  },
  {
   "cell_type": "code",
   "execution_count": 19,
   "id": "f18dface-db13-4e4f-87b6-edecf5374ed5",
   "metadata": {},
   "outputs": [
    {
     "name": "stderr",
     "output_type": "stream",
     "text": [
      "[nltk_data] Downloading package stopwords to\n",
      "[nltk_data]     C:\\Users\\sarah\\AppData\\Roaming\\nltk_data...\n",
      "[nltk_data]   Unzipping corpora\\stopwords.zip.\n"
     ]
    },
    {
     "data": {
      "text/plain": [
       "True"
      ]
     },
     "execution_count": 19,
     "metadata": {},
     "output_type": "execute_result"
    }
   ],
   "source": [
    "import nltk\n",
    "nltk.download('stopwords')"
   ]
  },
  {
   "cell_type": "code",
   "execution_count": null,
   "id": "9a86d65a-5899-4a1e-825e-40553bae0b22",
   "metadata": {},
   "outputs": [],
   "source": []
  }
 ],
 "metadata": {
  "kernelspec": {
   "display_name": "Python 3 (ipykernel)",
   "language": "python",
   "name": "python3"
  },
  "language_info": {
   "codemirror_mode": {
    "name": "ipython",
    "version": 3
   },
   "file_extension": ".py",
   "mimetype": "text/x-python",
   "name": "python",
   "nbconvert_exporter": "python",
   "pygments_lexer": "ipython3",
   "version": "3.12.4"
  }
 },
 "nbformat": 4,
 "nbformat_minor": 5
}
